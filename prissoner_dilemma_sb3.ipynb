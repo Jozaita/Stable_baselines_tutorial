{
 "cells": [
  {
   "cell_type": "code",
   "execution_count": 1,
   "metadata": {},
   "outputs": [],
   "source": [
    "import gymnasium as gym\n",
    "import numpy as np\n",
    "\n",
    "class PrisonerDilemmaEnv(gym.Env):\n",
    "    def __init__(self) -> None:\n",
    "        super(PrisonerDilemmaEnv, self).__init__()\n",
    "\n",
    "        #Observation Space: Cooperation vs defection \n",
    "        self.observation_space = gym.spaces.Discrete(2)\n",
    "        #Action space, the same\n",
    "        self.action_space = gym.spaces.Discrete(2)\n",
    "\n",
    "\n",
    "\n",
    "\n",
    "    def reset(self, seed=None, options=None):\n",
    "        super().reset(seed=seed, options=options)\n",
    "        self.state = None\n",
    "        return 0,{}\n",
    "\n",
    "\n",
    "    def step(self,actions):\n",
    "        print(actions)\n",
    "        assert len(actions) == 2\n",
    "        assert all(action in [0, 1] for action in actions)\n",
    "\n",
    "        if actions[0] == 0 and actions[1] == 0:\n",
    "            rewards = [3, 3]  \n",
    "        elif actions[0] == 0 and actions[1] == 1:\n",
    "            rewards = [0, 5]  \n",
    "        elif actions[0] == 1 and actions[1] == 0:\n",
    "            rewards = [5, 0] \n",
    "        else:\n",
    "            rewards = [1, 1]  \n",
    "\n",
    "        return 0,rewards,True,True,{}\n",
    "    \n",
    "\n",
    "\n",
    "\n",
    "\n",
    "        \n",
    "\n"
   ]
  },
  {
   "cell_type": "code",
   "execution_count": 25,
   "metadata": {},
   "outputs": [
    {
     "ename": "TypeError",
     "evalue": "object of type 'numpy.int64' has no len()",
     "output_type": "error",
     "traceback": [
      "\u001b[0;31m---------------------------------------------------------------------------\u001b[0m",
      "\u001b[0;31mTypeError\u001b[0m                                 Traceback (most recent call last)",
      "\u001b[1;32m/Users/jozaita/Documents/Stable_baselines_tutorial/prissoner_dilemma_sb3.ipynb Celda 2\u001b[0m line \u001b[0;36m3\n\u001b[1;32m      <a href='vscode-notebook-cell:/Users/jozaita/Documents/Stable_baselines_tutorial/prissoner_dilemma_sb3.ipynb#W1sZmlsZQ%3D%3D?line=0'>1</a>\u001b[0m \u001b[39mfrom\u001b[39;00m \u001b[39mstable_baselines3\u001b[39;00m\u001b[39m.\u001b[39;00m\u001b[39mcommon\u001b[39;00m\u001b[39m.\u001b[39;00m\u001b[39menv_checker\u001b[39;00m \u001b[39mimport\u001b[39;00m check_env\n\u001b[0;32m----> <a href='vscode-notebook-cell:/Users/jozaita/Documents/Stable_baselines_tutorial/prissoner_dilemma_sb3.ipynb#W1sZmlsZQ%3D%3D?line=2'>3</a>\u001b[0m check_env(PrisonerDilemmaEnv(),warn\u001b[39m=\u001b[39;49m\u001b[39mTrue\u001b[39;49;00m)\n",
      "File \u001b[0;32m/opt/homebrew/lib/python3.11/site-packages/stable_baselines3/common/env_checker.py:444\u001b[0m, in \u001b[0;36mcheck_env\u001b[0;34m(env, warn, skip_render_check)\u001b[0m\n\u001b[1;32m    439\u001b[0m         warnings\u001b[39m.\u001b[39mwarn(\n\u001b[1;32m    440\u001b[0m             \u001b[39mf\u001b[39m\u001b[39m\"\u001b[39m\u001b[39mYour action space has dtype \u001b[39m\u001b[39m{\u001b[39;00maction_space\u001b[39m.\u001b[39mdtype\u001b[39m}\u001b[39;00m\u001b[39m, we recommend using np.float32 to avoid cast errors.\u001b[39m\u001b[39m\"\u001b[39m\n\u001b[1;32m    441\u001b[0m         )\n\u001b[1;32m    443\u001b[0m \u001b[39m# ============ Check the returned values ===============\u001b[39;00m\n\u001b[0;32m--> 444\u001b[0m _check_returned_values(env, observation_space, action_space)\n\u001b[1;32m    446\u001b[0m \u001b[39m# ==== Check the render method and the declared render modes ====\u001b[39;00m\n\u001b[1;32m    447\u001b[0m \u001b[39mif\u001b[39;00m \u001b[39mnot\u001b[39;00m skip_render_check:\n",
      "File \u001b[0;32m/opt/homebrew/lib/python3.11/site-packages/stable_baselines3/common/env_checker.py:285\u001b[0m, in \u001b[0;36m_check_returned_values\u001b[0;34m(env, observation_space, action_space)\u001b[0m\n\u001b[1;32m    283\u001b[0m \u001b[39m# Sample a random action\u001b[39;00m\n\u001b[1;32m    284\u001b[0m action \u001b[39m=\u001b[39m action_space\u001b[39m.\u001b[39msample()\n\u001b[0;32m--> 285\u001b[0m data \u001b[39m=\u001b[39m env\u001b[39m.\u001b[39;49mstep(action)\n\u001b[1;32m    287\u001b[0m \u001b[39massert\u001b[39;00m \u001b[39mlen\u001b[39m(data) \u001b[39m==\u001b[39m \u001b[39m5\u001b[39m, (\n\u001b[1;32m    288\u001b[0m     \u001b[39m\"\u001b[39m\u001b[39mThe `step()` method must return five values: \u001b[39m\u001b[39m\"\u001b[39m\n\u001b[1;32m    289\u001b[0m     \u001b[39mf\u001b[39m\u001b[39m\"\u001b[39m\u001b[39mobs, reward, terminated, truncated, info. Actual: \u001b[39m\u001b[39m{\u001b[39;00m\u001b[39mlen\u001b[39m(data)\u001b[39m}\u001b[39;00m\u001b[39m values returned.\u001b[39m\u001b[39m\"\u001b[39m\n\u001b[1;32m    290\u001b[0m )\n\u001b[1;32m    292\u001b[0m \u001b[39m# Unpack\u001b[39;00m\n",
      "\u001b[1;32m/Users/jozaita/Documents/Stable_baselines_tutorial/prissoner_dilemma_sb3.ipynb Celda 2\u001b[0m line \u001b[0;36m2\n\u001b[1;32m     <a href='vscode-notebook-cell:/Users/jozaita/Documents/Stable_baselines_tutorial/prissoner_dilemma_sb3.ipynb#W1sZmlsZQ%3D%3D?line=21'>22</a>\u001b[0m \u001b[39mdef\u001b[39;00m \u001b[39mstep\u001b[39m(\u001b[39mself\u001b[39m,actions):\n\u001b[0;32m---> <a href='vscode-notebook-cell:/Users/jozaita/Documents/Stable_baselines_tutorial/prissoner_dilemma_sb3.ipynb#W1sZmlsZQ%3D%3D?line=22'>23</a>\u001b[0m     \u001b[39massert\u001b[39;00m \u001b[39mlen\u001b[39;49m(actions) \u001b[39m==\u001b[39m \u001b[39m2\u001b[39m\n\u001b[1;32m     <a href='vscode-notebook-cell:/Users/jozaita/Documents/Stable_baselines_tutorial/prissoner_dilemma_sb3.ipynb#W1sZmlsZQ%3D%3D?line=23'>24</a>\u001b[0m     \u001b[39massert\u001b[39;00m \u001b[39mall\u001b[39m(action \u001b[39min\u001b[39;00m [\u001b[39m0\u001b[39m, \u001b[39m1\u001b[39m] \u001b[39mfor\u001b[39;00m action \u001b[39min\u001b[39;00m actions)\n\u001b[1;32m     <a href='vscode-notebook-cell:/Users/jozaita/Documents/Stable_baselines_tutorial/prissoner_dilemma_sb3.ipynb#W1sZmlsZQ%3D%3D?line=25'>26</a>\u001b[0m     \u001b[39mif\u001b[39;00m actions[\u001b[39m0\u001b[39m] \u001b[39m==\u001b[39m \u001b[39m0\u001b[39m \u001b[39mand\u001b[39;00m actions[\u001b[39m1\u001b[39m] \u001b[39m==\u001b[39m \u001b[39m0\u001b[39m:\n",
      "\u001b[0;31mTypeError\u001b[0m: object of type 'numpy.int64' has no len()"
     ]
    }
   ],
   "source": [
    "from stable_baselines3.common.env_checker import check_env\n",
    "\n",
    "check_env(PrisonerDilemmaEnv(),warn=True)"
   ]
  },
  {
   "cell_type": "code",
   "execution_count": 2,
   "metadata": {},
   "outputs": [
    {
     "name": "stdout",
     "output_type": "stream",
     "text": [
      "Using cpu device\n",
      "Wrapping the env with a `Monitor` wrapper\n",
      "Wrapping the env in a DummyVecEnv.\n",
      "0\n"
     ]
    },
    {
     "ename": "TypeError",
     "evalue": "object of type 'numpy.int64' has no len()",
     "output_type": "error",
     "traceback": [
      "\u001b[0;31m---------------------------------------------------------------------------\u001b[0m",
      "\u001b[0;31mTypeError\u001b[0m                                 Traceback (most recent call last)",
      "\u001b[1;32m/Users/jozaita/Documents/Stable_baselines_tutorial/prissoner_dilemma_sb3.ipynb Celda 3\u001b[0m line \u001b[0;36m1\n\u001b[1;32m      <a href='vscode-notebook-cell:/Users/jozaita/Documents/Stable_baselines_tutorial/prissoner_dilemma_sb3.ipynb#W2sZmlsZQ%3D%3D?line=7'>8</a>\u001b[0m model \u001b[39m=\u001b[39m A2C(\n\u001b[1;32m      <a href='vscode-notebook-cell:/Users/jozaita/Documents/Stable_baselines_tutorial/prissoner_dilemma_sb3.ipynb#W2sZmlsZQ%3D%3D?line=8'>9</a>\u001b[0m     \u001b[39m\"\u001b[39m\u001b[39mMlpPolicy\u001b[39m\u001b[39m\"\u001b[39m,\n\u001b[1;32m     <a href='vscode-notebook-cell:/Users/jozaita/Documents/Stable_baselines_tutorial/prissoner_dilemma_sb3.ipynb#W2sZmlsZQ%3D%3D?line=9'>10</a>\u001b[0m     env\u001b[39m=\u001b[39menv,\n\u001b[1;32m     <a href='vscode-notebook-cell:/Users/jozaita/Documents/Stable_baselines_tutorial/prissoner_dilemma_sb3.ipynb#W2sZmlsZQ%3D%3D?line=10'>11</a>\u001b[0m     verbose\u001b[39m=\u001b[39m\u001b[39m1\u001b[39m,\n\u001b[1;32m     <a href='vscode-notebook-cell:/Users/jozaita/Documents/Stable_baselines_tutorial/prissoner_dilemma_sb3.ipynb#W2sZmlsZQ%3D%3D?line=11'>12</a>\u001b[0m     seed\u001b[39m=\u001b[39m\u001b[39m0\u001b[39m,\n\u001b[1;32m     <a href='vscode-notebook-cell:/Users/jozaita/Documents/Stable_baselines_tutorial/prissoner_dilemma_sb3.ipynb#W2sZmlsZQ%3D%3D?line=12'>13</a>\u001b[0m )\n\u001b[1;32m     <a href='vscode-notebook-cell:/Users/jozaita/Documents/Stable_baselines_tutorial/prissoner_dilemma_sb3.ipynb#W2sZmlsZQ%3D%3D?line=14'>15</a>\u001b[0m \u001b[39m# ====================== #\u001b[39;00m\n\u001b[1;32m     <a href='vscode-notebook-cell:/Users/jozaita/Documents/Stable_baselines_tutorial/prissoner_dilemma_sb3.ipynb#W2sZmlsZQ%3D%3D?line=15'>16</a>\u001b[0m \n\u001b[1;32m     <a href='vscode-notebook-cell:/Users/jozaita/Documents/Stable_baselines_tutorial/prissoner_dilemma_sb3.ipynb#W2sZmlsZQ%3D%3D?line=16'>17</a>\u001b[0m \u001b[39m# Train the RL model\u001b[39;00m\n\u001b[0;32m---> <a href='vscode-notebook-cell:/Users/jozaita/Documents/Stable_baselines_tutorial/prissoner_dilemma_sb3.ipynb#W2sZmlsZQ%3D%3D?line=17'>18</a>\u001b[0m model\u001b[39m.\u001b[39;49mlearn(\u001b[39mint\u001b[39;49m(\u001b[39m1_000\u001b[39;49m) )\n",
      "File \u001b[0;32m/opt/homebrew/lib/python3.11/site-packages/stable_baselines3/a2c/a2c.py:194\u001b[0m, in \u001b[0;36mA2C.learn\u001b[0;34m(self, total_timesteps, callback, log_interval, tb_log_name, reset_num_timesteps, progress_bar)\u001b[0m\n\u001b[1;32m    185\u001b[0m \u001b[39mdef\u001b[39;00m \u001b[39mlearn\u001b[39m(\n\u001b[1;32m    186\u001b[0m     \u001b[39mself\u001b[39m: SelfA2C,\n\u001b[1;32m    187\u001b[0m     total_timesteps: \u001b[39mint\u001b[39m,\n\u001b[0;32m   (...)\u001b[0m\n\u001b[1;32m    192\u001b[0m     progress_bar: \u001b[39mbool\u001b[39m \u001b[39m=\u001b[39m \u001b[39mFalse\u001b[39;00m,\n\u001b[1;32m    193\u001b[0m ) \u001b[39m-\u001b[39m\u001b[39m>\u001b[39m SelfA2C:\n\u001b[0;32m--> 194\u001b[0m     \u001b[39mreturn\u001b[39;00m \u001b[39msuper\u001b[39;49m()\u001b[39m.\u001b[39;49mlearn(\n\u001b[1;32m    195\u001b[0m         total_timesteps\u001b[39m=\u001b[39;49mtotal_timesteps,\n\u001b[1;32m    196\u001b[0m         callback\u001b[39m=\u001b[39;49mcallback,\n\u001b[1;32m    197\u001b[0m         log_interval\u001b[39m=\u001b[39;49mlog_interval,\n\u001b[1;32m    198\u001b[0m         tb_log_name\u001b[39m=\u001b[39;49mtb_log_name,\n\u001b[1;32m    199\u001b[0m         reset_num_timesteps\u001b[39m=\u001b[39;49mreset_num_timesteps,\n\u001b[1;32m    200\u001b[0m         progress_bar\u001b[39m=\u001b[39;49mprogress_bar,\n\u001b[1;32m    201\u001b[0m     )\n",
      "File \u001b[0;32m/opt/homebrew/lib/python3.11/site-packages/stable_baselines3/common/on_policy_algorithm.py:259\u001b[0m, in \u001b[0;36mOnPolicyAlgorithm.learn\u001b[0;34m(self, total_timesteps, callback, log_interval, tb_log_name, reset_num_timesteps, progress_bar)\u001b[0m\n\u001b[1;32m    256\u001b[0m \u001b[39massert\u001b[39;00m \u001b[39mself\u001b[39m\u001b[39m.\u001b[39menv \u001b[39mis\u001b[39;00m \u001b[39mnot\u001b[39;00m \u001b[39mNone\u001b[39;00m\n\u001b[1;32m    258\u001b[0m \u001b[39mwhile\u001b[39;00m \u001b[39mself\u001b[39m\u001b[39m.\u001b[39mnum_timesteps \u001b[39m<\u001b[39m total_timesteps:\n\u001b[0;32m--> 259\u001b[0m     continue_training \u001b[39m=\u001b[39m \u001b[39mself\u001b[39;49m\u001b[39m.\u001b[39;49mcollect_rollouts(\u001b[39mself\u001b[39;49m\u001b[39m.\u001b[39;49menv, callback, \u001b[39mself\u001b[39;49m\u001b[39m.\u001b[39;49mrollout_buffer, n_rollout_steps\u001b[39m=\u001b[39;49m\u001b[39mself\u001b[39;49m\u001b[39m.\u001b[39;49mn_steps)\n\u001b[1;32m    261\u001b[0m     \u001b[39mif\u001b[39;00m continue_training \u001b[39mis\u001b[39;00m \u001b[39mFalse\u001b[39;00m:\n\u001b[1;32m    262\u001b[0m         \u001b[39mbreak\u001b[39;00m\n",
      "File \u001b[0;32m/opt/homebrew/lib/python3.11/site-packages/stable_baselines3/common/on_policy_algorithm.py:178\u001b[0m, in \u001b[0;36mOnPolicyAlgorithm.collect_rollouts\u001b[0;34m(self, env, callback, rollout_buffer, n_rollout_steps)\u001b[0m\n\u001b[1;32m    175\u001b[0m \u001b[39mif\u001b[39;00m \u001b[39misinstance\u001b[39m(\u001b[39mself\u001b[39m\u001b[39m.\u001b[39maction_space, spaces\u001b[39m.\u001b[39mBox):\n\u001b[1;32m    176\u001b[0m     clipped_actions \u001b[39m=\u001b[39m np\u001b[39m.\u001b[39mclip(actions, \u001b[39mself\u001b[39m\u001b[39m.\u001b[39maction_space\u001b[39m.\u001b[39mlow, \u001b[39mself\u001b[39m\u001b[39m.\u001b[39maction_space\u001b[39m.\u001b[39mhigh)\n\u001b[0;32m--> 178\u001b[0m new_obs, rewards, dones, infos \u001b[39m=\u001b[39m env\u001b[39m.\u001b[39;49mstep(clipped_actions)\n\u001b[1;32m    180\u001b[0m \u001b[39mself\u001b[39m\u001b[39m.\u001b[39mnum_timesteps \u001b[39m+\u001b[39m\u001b[39m=\u001b[39m env\u001b[39m.\u001b[39mnum_envs\n\u001b[1;32m    182\u001b[0m \u001b[39m# Give access to local variables\u001b[39;00m\n",
      "File \u001b[0;32m/opt/homebrew/lib/python3.11/site-packages/stable_baselines3/common/vec_env/base_vec_env.py:197\u001b[0m, in \u001b[0;36mVecEnv.step\u001b[0;34m(self, actions)\u001b[0m\n\u001b[1;32m    190\u001b[0m \u001b[39m\u001b[39m\u001b[39m\"\"\"\u001b[39;00m\n\u001b[1;32m    191\u001b[0m \u001b[39mStep the environments with the given action\u001b[39;00m\n\u001b[1;32m    192\u001b[0m \n\u001b[1;32m    193\u001b[0m \u001b[39m:param actions: the action\u001b[39;00m\n\u001b[1;32m    194\u001b[0m \u001b[39m:return: observation, reward, done, information\u001b[39;00m\n\u001b[1;32m    195\u001b[0m \u001b[39m\"\"\"\u001b[39;00m\n\u001b[1;32m    196\u001b[0m \u001b[39mself\u001b[39m\u001b[39m.\u001b[39mstep_async(actions)\n\u001b[0;32m--> 197\u001b[0m \u001b[39mreturn\u001b[39;00m \u001b[39mself\u001b[39;49m\u001b[39m.\u001b[39;49mstep_wait()\n",
      "File \u001b[0;32m/opt/homebrew/lib/python3.11/site-packages/stable_baselines3/common/vec_env/dummy_vec_env.py:58\u001b[0m, in \u001b[0;36mDummyVecEnv.step_wait\u001b[0;34m(self)\u001b[0m\n\u001b[1;32m     55\u001b[0m \u001b[39mdef\u001b[39;00m \u001b[39mstep_wait\u001b[39m(\u001b[39mself\u001b[39m) \u001b[39m-\u001b[39m\u001b[39m>\u001b[39m VecEnvStepReturn:\n\u001b[1;32m     56\u001b[0m     \u001b[39m# Avoid circular imports\u001b[39;00m\n\u001b[1;32m     57\u001b[0m     \u001b[39mfor\u001b[39;00m env_idx \u001b[39min\u001b[39;00m \u001b[39mrange\u001b[39m(\u001b[39mself\u001b[39m\u001b[39m.\u001b[39mnum_envs):\n\u001b[0;32m---> 58\u001b[0m         obs, \u001b[39mself\u001b[39m\u001b[39m.\u001b[39mbuf_rews[env_idx], terminated, truncated, \u001b[39mself\u001b[39m\u001b[39m.\u001b[39mbuf_infos[env_idx] \u001b[39m=\u001b[39m \u001b[39mself\u001b[39;49m\u001b[39m.\u001b[39;49menvs[env_idx]\u001b[39m.\u001b[39;49mstep(\n\u001b[1;32m     59\u001b[0m             \u001b[39mself\u001b[39;49m\u001b[39m.\u001b[39;49mactions[env_idx]\n\u001b[1;32m     60\u001b[0m         )\n\u001b[1;32m     61\u001b[0m         \u001b[39m# convert to SB3 VecEnv api\u001b[39;00m\n\u001b[1;32m     62\u001b[0m         \u001b[39mself\u001b[39m\u001b[39m.\u001b[39mbuf_dones[env_idx] \u001b[39m=\u001b[39m terminated \u001b[39mor\u001b[39;00m truncated\n",
      "File \u001b[0;32m/opt/homebrew/lib/python3.11/site-packages/stable_baselines3/common/monitor.py:94\u001b[0m, in \u001b[0;36mMonitor.step\u001b[0;34m(self, action)\u001b[0m\n\u001b[1;32m     92\u001b[0m \u001b[39mif\u001b[39;00m \u001b[39mself\u001b[39m\u001b[39m.\u001b[39mneeds_reset:\n\u001b[1;32m     93\u001b[0m     \u001b[39mraise\u001b[39;00m \u001b[39mRuntimeError\u001b[39;00m(\u001b[39m\"\u001b[39m\u001b[39mTried to step environment that needs reset\u001b[39m\u001b[39m\"\u001b[39m)\n\u001b[0;32m---> 94\u001b[0m observation, reward, terminated, truncated, info \u001b[39m=\u001b[39m \u001b[39mself\u001b[39;49m\u001b[39m.\u001b[39;49menv\u001b[39m.\u001b[39;49mstep(action)\n\u001b[1;32m     95\u001b[0m \u001b[39mself\u001b[39m\u001b[39m.\u001b[39mrewards\u001b[39m.\u001b[39mappend(\u001b[39mfloat\u001b[39m(reward))\n\u001b[1;32m     96\u001b[0m \u001b[39mif\u001b[39;00m terminated \u001b[39mor\u001b[39;00m truncated:\n",
      "\u001b[1;32m/Users/jozaita/Documents/Stable_baselines_tutorial/prissoner_dilemma_sb3.ipynb Celda 3\u001b[0m line \u001b[0;36m2\n\u001b[1;32m     <a href='vscode-notebook-cell:/Users/jozaita/Documents/Stable_baselines_tutorial/prissoner_dilemma_sb3.ipynb#W2sZmlsZQ%3D%3D?line=21'>22</a>\u001b[0m \u001b[39mdef\u001b[39;00m \u001b[39mstep\u001b[39m(\u001b[39mself\u001b[39m,actions):\n\u001b[1;32m     <a href='vscode-notebook-cell:/Users/jozaita/Documents/Stable_baselines_tutorial/prissoner_dilemma_sb3.ipynb#W2sZmlsZQ%3D%3D?line=22'>23</a>\u001b[0m     \u001b[39mprint\u001b[39m(actions)\n\u001b[0;32m---> <a href='vscode-notebook-cell:/Users/jozaita/Documents/Stable_baselines_tutorial/prissoner_dilemma_sb3.ipynb#W2sZmlsZQ%3D%3D?line=23'>24</a>\u001b[0m     \u001b[39massert\u001b[39;00m \u001b[39mlen\u001b[39;49m(actions) \u001b[39m==\u001b[39m \u001b[39m2\u001b[39m\n\u001b[1;32m     <a href='vscode-notebook-cell:/Users/jozaita/Documents/Stable_baselines_tutorial/prissoner_dilemma_sb3.ipynb#W2sZmlsZQ%3D%3D?line=24'>25</a>\u001b[0m     \u001b[39massert\u001b[39;00m \u001b[39mall\u001b[39m(action \u001b[39min\u001b[39;00m [\u001b[39m0\u001b[39m, \u001b[39m1\u001b[39m] \u001b[39mfor\u001b[39;00m action \u001b[39min\u001b[39;00m actions)\n\u001b[1;32m     <a href='vscode-notebook-cell:/Users/jozaita/Documents/Stable_baselines_tutorial/prissoner_dilemma_sb3.ipynb#W2sZmlsZQ%3D%3D?line=26'>27</a>\u001b[0m     \u001b[39mif\u001b[39;00m actions[\u001b[39m0\u001b[39m] \u001b[39m==\u001b[39m \u001b[39m0\u001b[39m \u001b[39mand\u001b[39;00m actions[\u001b[39m1\u001b[39m] \u001b[39m==\u001b[39m \u001b[39m0\u001b[39m:\n",
      "\u001b[0;31mTypeError\u001b[0m: object of type 'numpy.int64' has no len()"
     ]
    }
   ],
   "source": [
    "from stable_baselines3 import A2C\n",
    "\n",
    "\n",
    "env = PrisonerDilemmaEnv()\n",
    "\n",
    "env.reset()\n",
    "\n",
    "model = A2C(\n",
    "    \"MlpPolicy\",\n",
    "    env=env,\n",
    "    verbose=1,\n",
    "    seed=0,\n",
    ")\n",
    "\n",
    "# ====================== #\n",
    "\n",
    "# Train the RL model\n",
    "model.learn(int(1_000) )"
   ]
  },
  {
   "cell_type": "code",
   "execution_count": null,
   "metadata": {},
   "outputs": [],
   "source": []
  },
  {
   "cell_type": "code",
   "execution_count": null,
   "metadata": {},
   "outputs": [],
   "source": []
  }
 ],
 "metadata": {
  "kernelspec": {
   "display_name": "Python 3",
   "language": "python",
   "name": "python3"
  },
  "language_info": {
   "codemirror_mode": {
    "name": "ipython",
    "version": 3
   },
   "file_extension": ".py",
   "mimetype": "text/x-python",
   "name": "python",
   "nbconvert_exporter": "python",
   "pygments_lexer": "ipython3",
   "version": "3.11.5"
  }
 },
 "nbformat": 4,
 "nbformat_minor": 2
}
